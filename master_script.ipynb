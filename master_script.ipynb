{
 "cells": [
  {
   "cell_type": "markdown",
   "id": "00ed286f-e3d4-430a-ac30-8c939bcecb53",
   "metadata": {},
   "source": [
    "# TranscriptHomies 🧬🤝\n",
    "#### <span style=\"color: blue;\">_Explore how genes work together. This tool maps gene–gene expression correlations within your dataset, helping you discover coordinated expression patterns and visualize network structures that define biological systems._</span>\n",
    "#### **Team Members:** Grace Beggs, Caroline Harrer, HeaJin Hong, Tess Kelly, Zilin Xianyu\n",
    "#### **TAs:** Riley Kellermeyer, Bekah Kim"
   ]
  },
  {
   "cell_type": "markdown",
   "id": "117645e0-5d29-4804-85b1-175de4e208a4",
   "metadata": {},
   "source": [
    "### Data Input and Organization"
   ]
  },
  {
   "cell_type": "code",
   "execution_count": null,
   "id": "fa3a7e20-be42-4217-a4f5-cbc577317c64",
   "metadata": {},
   "outputs": [],
   "source": []
  },
  {
   "cell_type": "code",
   "execution_count": null,
   "id": "758324df-db20-4072-b633-4fb84fd5aeb0",
   "metadata": {},
   "outputs": [],
   "source": []
  },
  {
   "cell_type": "markdown",
   "id": "98dd0334-0158-441b-99f0-67df00b934b5",
   "metadata": {},
   "source": [
    "### Analysis "
   ]
  },
  {
   "cell_type": "code",
   "execution_count": null,
   "id": "e3217a3f-6709-4de8-a1ae-b50438c62b32",
   "metadata": {},
   "outputs": [],
   "source": []
  },
  {
   "cell_type": "code",
   "execution_count": null,
   "id": "f899e9da-e138-49ee-98c5-91f53e81c962",
   "metadata": {},
   "outputs": [],
   "source": []
  },
  {
   "cell_type": "markdown",
   "id": "7174dc90-f456-4a4f-8d73-b98169a13060",
   "metadata": {},
   "source": [
    "### Output and Visualization"
   ]
  },
  {
   "cell_type": "code",
   "execution_count": null,
   "id": "25e77d4b-61f7-4c26-baa4-60a5323963f6",
   "metadata": {},
   "outputs": [],
   "source": []
  },
  {
   "cell_type": "code",
   "execution_count": null,
   "id": "a607b7e0-34d2-4636-b343-580ea030ea2f",
   "metadata": {},
   "outputs": [],
   "source": []
  },
  {
   "cell_type": "code",
   "execution_count": null,
   "id": "0099c263-cc8f-4b74-b0b4-4a5bff2dde46",
   "metadata": {},
   "outputs": [],
   "source": []
  }
 ],
 "metadata": {
  "kernelspec": {
   "display_name": "Python 3 (ipykernel)",
   "language": "python",
   "name": "python3"
  },
  "language_info": {
   "codemirror_mode": {
    "name": "ipython",
    "version": 3
   },
   "file_extension": ".py",
   "mimetype": "text/x-python",
   "name": "python",
   "nbconvert_exporter": "python",
   "pygments_lexer": "ipython3",
   "version": "3.13.0"
  }
 },
 "nbformat": 4,
 "nbformat_minor": 5
}
