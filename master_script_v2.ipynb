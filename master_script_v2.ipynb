{
 "cells": [
  {
   "cell_type": "markdown",
   "id": "00ed286f-e3d4-430a-ac30-8c939bcecb53",
   "metadata": {},
   "source": [
    "# TranscriptHomies 🧬🤝\n",
    "#### <span style=\"color: blue;\">_Explore how genes work together. This tool maps gene–gene expression correlations within your dataset, helping you discover coordinated expression patterns and visualize network structures that define biological systems._</span>\n",
    "#### **Team Members:** Grace Beggs, Caroline Harrer, HeaJin Hong, Tess Kelly, Zilin Xianyu\n",
    "#### **TAs:** Riley Kellermeyer, Bekah Kim"
   ]
  },
  {
   "cell_type": "markdown",
   "id": "117645e0-5d29-4804-85b1-175de4e208a4",
   "metadata": {},
   "source": [
    "# **Data Input and Organization**"
   ]
  },
  {
   "cell_type": "markdown",
   "id": "917e5e93-95cd-49bf-a79c-eae632b40930",
   "metadata": {},
   "source": [
    "# **Analysis**"
   ]
  },
  {
   "cell_type": "markdown",
   "id": "e0a41f02-7d25-432a-89d4-d5fa92449c59",
   "metadata": {},
   "source": [
    "### <span style=\"color: blue;\">PyDESeq2: Differential gene expression analysis based on the negative binomial distribution.</span>"
   ]
  },
  {
   "cell_type": "markdown",
   "id": "1de9027d-6839-4e0c-b2eb-876d127606bb",
   "metadata": {},
   "source": [
    "#### Section 1: Import Libraries and Set Parameters"
   ]
  },
  {
   "cell_type": "code",
   "execution_count": null,
   "id": "8e95d32e-b3ec-485a-be61-848a62df2ca9",
   "metadata": {},
   "outputs": [],
   "source": [
    "# Breast Cancer DESeq2 Paired Analysis\n",
    "# This notebook performs differential expression analysis comparing tumor (C) vs normal (CP) breast tissue samples using a paired design.\n",
    "\n",
    "import pandas as pd\n",
    "from pydeseq2.dds import DeseqDataSet\n",
    "from pydeseq2.ds import DeseqStats\n",
    "\n",
    "# Hardcoded parameters\n",
    "file = \"GSE280284_Processed_data_files.txt\"\n",
    "cond1 = \"C\"\n",
    "cond2 = \"CP\""
   ]
  },
  {
   "cell_type": "markdown",
   "id": "30534ff2-9a35-457f-ba4b-c48b9e454908",
   "metadata": {},
   "source": [
    "#### Section 2: Load Expression Data"
   ]
  },
  {
   "cell_type": "code",
   "execution_count": null,
   "id": "03929bfa-bcbf-40b3-b16d-e1a2d89303ad",
   "metadata": {},
   "outputs": [],
   "source": [
    "print(f\"📂 Reading file: {file}\")\n",
    "df = pd.read_csv(file, sep=\"\\t\", index_col=0)\n",
    "\n",
    "# Save annotation columns if they exist\n",
    "gene_symbols = df[\"symbol\"] if \"symbol\" in df.columns else None\n",
    "gene_names = df[\"name\"] if \"name\" in df.columns else None\n",
    "\n",
    "# Drop annotation columns before DESeq2\n",
    "drop_cols = [c for c in [\"symbol\", \"name\"] if c in df.columns]\n",
    "df = df.drop(columns=drop_cols)\n",
    "\n",
    "# Select relevant samples (ending with cond1 or cond2)\n",
    "samples = [c for c in df.columns if c.endswith(cond1) or c.endswith(cond2)]\n",
    "counts = df[samples]\n",
    "\n",
    "print(f\"Loaded {len(counts)} genes across {len(samples)} samples\")"
   ]
  },
  {
   "cell_type": "markdown",
   "id": "d7d2b2de-6182-4fb7-8a5a-54374be26315",
   "metadata": {},
   "source": [
    "#### Section 3: Set Exclusion Criteria and Filter Low-Count Genes"
   ]
  },
  {
   "cell_type": "code",
   "execution_count": null,
   "id": "bf62191a-eae9-4164-bf63-1e47a9b331c2",
   "metadata": {},
   "outputs": [],
   "source": [
    "# Section 3: Filter Low-Count Genes\n",
    "\n",
    "# Filtering criteria: keep genes with >= 10 counts in >= 3 samples\n",
    "MIN_COUNTS = 10\n",
    "MIN_SAMPLES = 3\n",
    "\n",
    "# Identify genes that pass the filter\n",
    "genes_pass_filter = (counts >= MIN_COUNTS).sum(axis=1) >= MIN_SAMPLES\n",
    "filtered_counts = counts[genes_pass_filter]\n",
    "removed_genes = counts[~genes_pass_filter]\n",
    "\n",
    "# Save removed genes\n",
    "removed_file = f\"removed_low_count_genes_{cond1}_vs_{cond2}.txt\"\n",
    "removed_genes.to_csv(removed_file, sep=\"\\t\")\n",
    "\n",
    "print(f\"\\n🧹 Gene Filtering Summary:\")\n",
    "print(f\"   Total genes before filtering: {len(counts)}\")\n",
    "print(f\"   Genes passing filter (>={MIN_COUNTS} counts in >={MIN_SAMPLES} samples): {len(filtered_counts)}\")\n",
    "print(f\"   Genes removed: {len(removed_genes)}\")\n",
    "print(f\"   Percentage kept: {len(filtered_counts)/len(counts)*100:.1f}%\")\n",
    "print(f\"📁 Saved list of removed genes to: {removed_file}\")"
   ]
  },
  {
   "cell_type": "markdown",
   "id": "f192d741-c191-4558-9cd5-2b39133b3ca5",
   "metadata": {},
   "source": [
    "#### Section 4: Extract Patient IDs and Build Metadata "
   ]
  },
  {
   "cell_type": "code",
   "execution_count": null,
   "id": "c001d23c-4565-4885-94c7-7eff0e2d5025",
   "metadata": {},
   "outputs": [],
   "source": [
    "# Helper: extract patient ID robustly\n",
    "def extract_patient_id(s, cond1, cond2):\n",
    "    \"\"\"Strip condition suffix and normalize IDs with or without trailing zeros.\"\"\"\n",
    "    if s.endswith(cond2):\n",
    "        base = s[: -len(cond2)]\n",
    "    elif s.endswith(cond1):\n",
    "        base = s[: -len(cond1)]\n",
    "    else:\n",
    "        base = s\n",
    "    if base.endswith(\"0\") and (base[:-1] + cond2) in df.columns:\n",
    "        base = base[:-1]\n",
    "    return base\n",
    "\n",
    "# Build metadata with patient IDs\n",
    "patients = [extract_patient_id(s, cond1, cond2) for s in filtered_counts.columns]\n",
    "meta = pd.DataFrame({\n",
    "    \"sample\": filtered_counts.columns,\n",
    "    \"patient\": patients,\n",
    "    \"condition\": [cond1 if s.endswith(cond1) else cond2 for s in filtered_counts.columns]\n",
    "}, index=filtered_counts.columns)\n",
    "\n",
    "print(\"Metadata created:\")\n",
    "print(meta.head())"
   ]
  },
  {
   "cell_type": "markdown",
   "id": "8141c4ab-d188-4e47-bf62-6caa4c1039ac",
   "metadata": {},
   "source": [
    "#### Section 5: Check and Verify Tumor-Normal Pairing"
   ]
  },
  {
   "cell_type": "code",
   "execution_count": null,
   "id": "63415cf9-ec86-418c-939e-9a38a1273a57",
   "metadata": {},
   "outputs": [],
   "source": [
    "print(\"\\n🔍 Checking detected tumor-normal pairs:\")\n",
    "tumor_samples = [s for s in filtered_counts.columns if s.endswith(cond1)]\n",
    "normal_samples = [s for s in filtered_counts.columns if s.endswith(cond2)]\n",
    "paired_patients, missing_pairs = [], []\n",
    "for t in tumor_samples:\n",
    "    pid = extract_patient_id(t, cond1, cond2)\n",
    "    n_candidates = [n for n in normal_samples if extract_patient_id(n, cond1, cond2) == pid]\n",
    "    if n_candidates:\n",
    "        print(f\"  ✅ {t}  ↔  {n_candidates[0]}\")\n",
    "        paired_patients.append(pid)\n",
    "    else:\n",
    "        print(f\"  ⚠️  Missing normal pair for tumor sample: {t}\")\n",
    "        missing_pairs.append(pid)\n",
    "for n in normal_samples:\n",
    "    pid = extract_patient_id(n, cond1, cond2)\n",
    "    t_candidates = [t for t in tumor_samples if extract_patient_id(t, cond1, cond2) == pid]\n",
    "    if not t_candidates:\n",
    "        print(f\"  ⚠️  Missing tumor pair for normal sample: {n}\")\n",
    "        missing_pairs.append(pid)\n",
    "# Keep only complete pairs\n",
    "if missing_pairs:\n",
    "    print(f\"\\n⚠️ Warning: {len(missing_pairs)} unmatched samples detected. Only complete pairs will be used.\")\n",
    "    paired_patients = list(set(paired_patients))\n",
    "    meta = meta[meta[\"patient\"].isin(paired_patients)]\n",
    "    filtered_counts = filtered_counts[meta.index]\n",
    "else:\n",
    "    print(\"\\n✅ All pairs detected successfully.\")"
   ]
  },
  {
   "cell_type": "markdown",
   "id": "37298e31-92b9-4b80-a3b8-81675339bfa4",
   "metadata": {},
   "source": [
    "#### Section 6: Run DESeq2 Paired Analysis"
   ]
  },
  {
   "cell_type": "code",
   "execution_count": null,
   "id": "0acb43cc-5327-4107-aaa4-0a06be5341e5",
   "metadata": {},
   "outputs": [],
   "source": [
    "print(\"\\n⚙️ Running DESeq2 paired analysis...\")\n",
    "dds = DeseqDataSet(\n",
    "    counts=filtered_counts.T,\n",
    "    metadata=meta[[\"patient\", \"condition\"]],\n",
    "    design_factors=[\"patient\", \"condition\"]\n",
    ")\n",
    "dds.deseq2()\n",
    "\n",
    "print(\"✅ DESeq2 model fitting complete!\")"
   ]
  },
  {
   "cell_type": "markdown",
   "id": "d97acbb7-e345-42d6-a2a6-977711b71b6f",
   "metadata": {},
   "source": [
    "#### Section 7: Compute Differential Expression Statistics"
   ]
  },
  {
   "cell_type": "code",
   "execution_count": null,
   "id": "284e515e-365d-4cdc-a0b0-cfc7c82fc13c",
   "metadata": {},
   "outputs": [],
   "source": [
    "stat_res = DeseqStats(dds, contrast=[\"condition\", cond1, cond2])\n",
    "stat_res.summary()\n",
    "\n",
    "print(\"✅ Statistical testing complete!\")"
   ]
  },
  {
   "cell_type": "markdown",
   "id": "dcdbf0a1-2f6b-4fa5-957d-a8661bafc4c8",
   "metadata": {},
   "source": [
    "#### Section 8: Combine Results with Gene Annotations"
   ]
  },
  {
   "cell_type": "code",
   "execution_count": null,
   "id": "2dcec4a4-5d4f-4f3e-aabf-03f43d620437",
   "metadata": {},
   "outputs": [],
   "source": [
    "results = stat_res.results_df.copy()\n",
    "results.index.name = \"ensembl_id\"\n",
    "\n",
    "if gene_symbols is not None:\n",
    "    results = results.merge(gene_symbols, left_index=True, right_index=True, how=\"left\")\n",
    "if gene_names is not None:\n",
    "    results = results.merge(gene_names, left_index=True, right_index=True, how=\"left\")\n",
    "\n",
    "print(f\"Results table created with {len(results)} genes\")\n",
    "print(\"\\nFirst few results:\")\n",
    "print(results.head())"
   ]
  },
  {
   "cell_type": "markdown",
   "id": "c2ecdbf7-1640-4897-a354-4ca89f55a54b",
   "metadata": {},
   "source": [
    "#### Section 9: Save All Results"
   ]
  },
  {
   "cell_type": "code",
   "execution_count": null,
   "id": "1938932a-895a-48f5-aef0-1a825a1bea8b",
   "metadata": {},
   "outputs": [],
   "source": [
    "# Save all results (tab-delimited)\n",
    "out_file = f\"DE_{cond1}_vs_{cond2}_paired_filtered.txt\"\n",
    "results.to_csv(out_file, sep=\"\\t\")\n",
    "print(f\"📊 All results saved to: {out_file}\")"
   ]
  },
  {
   "cell_type": "markdown",
   "id": "25f0b0bf-79cd-4dc5-a3e6-f85a4f6d03dc",
   "metadata": {},
   "source": [
    "#### Section 10: Save Significant Results"
   ]
  },
  {
   "cell_type": "code",
   "execution_count": null,
   "id": "6aca7aa4-9f15-4770-baaa-7f87634a7efa",
   "metadata": {},
   "outputs": [],
   "source": [
    "sig_results = results[results[\"padj\"] < 0.05].sort_values(\"padj\")\n",
    "sig_file = f\"DE_{cond1}_vs_{cond2}_paired_filtered_significant.txt\"\n",
    "sig_results.to_csv(sig_file, sep=\"\\t\")\n",
    "print(f\"✨ Significant genes (padj < 0.05) saved to: {sig_file}\")\n",
    "print(f\"🔬 Significant genes found: {len(sig_results)}\")"
   ]
  },
  {
   "cell_type": "markdown",
   "id": "cfebcb89-1cea-4275-833f-f1833a972703",
   "metadata": {},
   "source": [
    "#### Section 11: Save Top 20 Genes"
   ]
  },
  {
   "cell_type": "code",
   "execution_count": null,
   "id": "7b13bcd8-bc4e-47ab-b971-1f557f5432aa",
   "metadata": {},
   "outputs": [],
   "source": [
    "# Top 20 genes\n",
    "top20_file = f\"DE_{cond1}_vs_{cond2}_paired_filtered_top20.txt\"\n",
    "top20 = sig_results.head(20)\n",
    "top20.to_csv(top20_file, sep=\"\\t\")\n",
    "print(f\"🏆 Top 20 genes saved to: {top20_file}\")\n",
    "print(\"\\nTop 20 most significant genes:\")\n",
    "print(top20[[\"symbol\", \"log2FoldChange\", \"padj\"]].head(20))"
   ]
  },
  {
   "cell_type": "markdown",
   "id": "79ac5a45-1ccf-45d5-8a69-14aec59ff966",
   "metadata": {},
   "source": [
    "#### Section 12: Save Filtered Counts with Annotations"
   ]
  },
  {
   "cell_type": "code",
   "execution_count": null,
   "id": "a2f689a9-0ee8-4d11-9311-46fc880e751b",
   "metadata": {},
   "outputs": [],
   "source": [
    "# Save filtered counts with gene annotations\n",
    "filtered_counts_with_annotations = filtered_counts.copy()\n",
    "if gene_symbols is not None:\n",
    "    filtered_counts_with_annotations = filtered_counts_with_annotations.merge(\n",
    "        gene_symbols, left_index=True, right_index=True, how=\"left\"\n",
    "    )\n",
    "if gene_names is not None:\n",
    "    filtered_counts_with_annotations = filtered_counts_with_annotations.merge(\n",
    "        gene_names, left_index=True, right_index=True, how=\"left\"\n",
    "    )\n",
    "filtered_counts_with_annotations.to_csv('final_input_filtered.csv', index=True)\n",
    "print(f\"📁 Filtered count matrix saved to: final_input_filtered.csv\")"
   ]
  },
  {
   "cell_type": "markdown",
   "id": "56fd8209-2a75-49c1-bd06-469f3f096e0d",
   "metadata": {},
   "source": [
    "#### Section 13: Final Summary "
   ]
  },
  {
   "cell_type": "code",
   "execution_count": null,
   "id": "dbc4a15c-a972-4b13-81db-3ac6bf5ccf5a",
   "metadata": {},
   "outputs": [],
   "source": [
    "print(f\"\\n✅ DESeq2 Analysis Complete!\")\n",
    "print(f\"🧬 Total genes analyzed: {len(results)}\")\n",
    "print(f\"🔬 Significant genes found: {len(sig_results)}\")\n",
    "print(f\"\\n📂 Output files created:\")\n",
    "print(f\"   • {out_file}\")\n",
    "print(f\"   • {sig_file}\")\n",
    "print(f\"   • {top20_file}\")\n",
    "print(f\"   • final_input_filtered.csv\")\n",
    "print(f\"   • {removed_file}\")"
   ]
  },
  {
   "cell_type": "markdown",
   "id": "dc1cc6ed-6287-4986-b6f0-102c7a152f96",
   "metadata": {},
   "source": [
    "### <span style=\"color: blue;\">Correlation Analysis</span>"
   ]
  },
  {
   "cell_type": "code",
   "execution_count": 2,
   "id": "2da716fb-e751-4398-a274-38085014899a",
   "metadata": {},
   "outputs": [
    {
     "name": "stdout",
     "output_type": "stream",
     "text": [
      "                 1622003800C  1621001800C  1622003500C  1621003700C  \\\n",
      "gene_id                                                               \n",
      "NONHSAG104656.1            8           12           15           42   \n",
      "ENSG00000198692           14            5            5           14   \n",
      "NONHSAG104654.1            8            3            0            4   \n",
      "NONHSAG115270.1           18           14            5           13   \n",
      "NONHSAG104622.1            9            9           82           12   \n",
      "\n",
      "                 1621002900C  1621002200C  162200380CP  162100180CP  \\\n",
      "gene_id                                                               \n",
      "NONHSAG104656.1            7           14           18            6   \n",
      "ENSG00000198692           12           21           15            6   \n",
      "NONHSAG104654.1            2            9            6           10   \n",
      "NONHSAG115270.1           10           14            7           16   \n",
      "NONHSAG104622.1           63           11           31            8   \n",
      "\n",
      "                 162200350CP  162100370CP  162100290CP  162100220CP  symbol  \\\n",
      "gene_id                                                                       \n",
      "NONHSAG104656.1           37           18           19           13       -   \n",
      "ENSG00000198692           13           10            9           16  EIF1AY   \n",
      "NONHSAG104654.1            6            9           10           10       -   \n",
      "NONHSAG115270.1            5           24           15           13       -   \n",
      "NONHSAG104622.1           25           14           16           23       -   \n",
      "\n",
      "                                                              name  \n",
      "gene_id                                                             \n",
      "NONHSAG104656.1                                                  -  \n",
      "ENSG00000198692  eukaryotic translation initiation factor 1A Y-...  \n",
      "NONHSAG104654.1                                                  -  \n",
      "NONHSAG115270.1                                                  -  \n",
      "NONHSAG104622.1                                                  -  \n"
     ]
    }
   ],
   "source": [
    "import pandas as pd\n",
    "import numpy as np\n",
    "from scipy.stats import zscore\n",
    "from scipy.stats import pearsonr, spearmanr\n",
    "from scipy.stats import false_discovery_control\n",
    "\n",
    "\n",
    "# input 1: gene expression matrix (genes x samples)\n",
    "df = pd.read_csv(\"final_input_filtered.csv\", index_col=0)\n",
    "print(df.head())"
   ]
  },
  {
   "cell_type": "code",
   "execution_count": 3,
   "id": "9caa4c9e-a388-4e57-a2af-e9a422db1ada",
   "metadata": {},
   "outputs": [
    {
     "name": "stdout",
     "output_type": "stream",
     "text": [
      "        1622003800C  1621001800C  1622003500C  1621003700C  1621002900C  \\\n",
      "symbol                                                                    \n",
      "-         -0.876549    -0.504209    -0.224955     2.288335    -0.969633   \n",
      "EIF1AY     0.500639    -1.430397    -1.430397     0.500639     0.071520   \n",
      "-          0.475744    -1.026605    -1.928015    -0.726135    -1.327075   \n",
      "-          0.979816     0.221249    -1.485528     0.031607    -0.537319   \n",
      "-         -0.720726    -0.720726     2.516997    -0.587669     1.674302   \n",
      "\n",
      "        1621002200C  162200380CP  162100180CP  162200350CP  162100370CP  \\\n",
      "symbol                                                                    \n",
      "-         -0.318040     0.054299    -1.062718     1.822911     0.054299   \n",
      "EIF1AY     2.002556     0.715199    -1.215838     0.286079    -0.357599   \n",
      "-          0.776214    -0.125196     1.076684    -0.125196     0.776214   \n",
      "-          0.221249    -1.106244     0.600533    -1.485528     2.117667   \n",
      "-         -0.632021     0.255026    -0.765078    -0.011088    -0.498964   \n",
      "\n",
      "        162100290CP  162100220CP  \n",
      "symbol                            \n",
      "-          0.147384    -0.411125  \n",
      "EIF1AY    -0.572159     0.929758  \n",
      "-          1.076684     1.076684  \n",
      "-          0.410891     0.031607  \n",
      "-         -0.410259    -0.099793  \n"
     ]
    }
   ],
   "source": [
    "# Split data: all but last two columns for normalization\n",
    "df_main = df.iloc[:, :-2]     # everything except last 2 columns\n",
    "df_extra = df.iloc[:, -2:]    # last 2 columns kept as-is\n",
    "\n",
    "# Convert to float and normalize\n",
    "df_main = df_main.astype(float)\n",
    "df_z = df_main.apply(lambda x: zscore(x), axis=1, result_type='broadcast')\n",
    "\n",
    "# Rejoin\n",
    "df_final = pd.concat([df_z, df_extra], axis=1)\n",
    "\n",
    "# Replace rowname with second-to-last column\n",
    "df_final.index = df.iloc[:, -2]\n",
    "# get rid of last two columns\n",
    "df_final = df_final.iloc[:, :-2]\n",
    "print(df_final.head())"
   ]
  },
  {
   "cell_type": "code",
   "execution_count": 6,
   "id": "a8eed999-8dab-412d-b673-2286dbe67513",
   "metadata": {},
   "outputs": [
    {
     "name": "stdout",
     "output_type": "stream",
     "text": [
      "Genes in pathway GOBP_CYTOKINESIS: ['ACTR2', 'ACTR3', 'AHCTF1', 'ALKBH4', 'ANK3', 'ANKRD53', 'ANLN', 'ANXA11', 'APC', 'ARF1', 'ARF6', 'ARL3', 'ATXN10', 'AURKA', 'AURKB', 'AURKC', 'BBS4', 'BCL2L1', 'BECN1', 'BIN3', 'BIRC5', 'BIRC6', 'BRCA2', 'CALM1', 'CALM2', 'CALM3', 'CCDC66', 'CCP110', 'CDC14A', 'CDC14B', 'CDC14C', 'CDC25B', 'CDC42', 'CDC6', 'CDCA8', 'CECR2', 'CENPA', 'CENPV', 'CEP55', 'CETN2', 'CFL1', 'CHMP1A', 'CHMP1B', 'CHMP2A', 'CHMP2B', 'CHMP3', 'CHMP4A', 'CHMP4B', 'CHMP4BP1', 'CHMP4C', 'CHMP5', 'CHMP6', 'CHMP7', 'CIT', 'CKAP2', 'CNTROB', 'CSPP1', 'CUL3', 'CUL7', 'CXCR5', 'DCDC1', 'DCTN3', 'DRD2', 'DRD3', 'E2F7', 'E2F8', 'ECT2', 'EFHC1', 'ENTR1', 'ESPL1', 'EXOC1', 'EXOC2', 'EXOC3', 'EXOC4', 'EXOC5', 'EXOC6', 'EXOC6B', 'EXOC7', 'EXOC8', 'FMN2', 'FSD1', 'GIPC1', 'GIT1', 'INCENP', 'IQGAP1', 'IQGAP2', 'IQGAP3', 'IST1', 'JTB', 'KIF13A', 'KIF14', 'KIF20A', 'KIF20B', 'KIF23', 'KIF3B', 'KIF4A', 'KIF4B', 'KLHDC8B', 'KLHL13', 'KLHL21', 'KLHL9', 'LUZP1', 'LZTS2', 'MAP10', 'MAP9', 'MITD1', 'MRGPRX2', 'MTMR3', 'MTMR4', 'MYH10', 'MYH14', 'MYH9', 'MYO19', 'NOX5', 'NUP62', 'NUSAP1', 'OPN1LW', 'OPN1MW', 'OPN1MW2', 'OR1A2', 'OR2A4', 'ORC4', 'PDCD6IP', 'PDXP', 'PIK3C3', 'PIK3R4', 'PIN1', 'PKN2', 'PKP4', 'PLEC', 'PLK1', 'PLK3', 'POLDIP2', 'PRC1', 'PRKCE', 'PRPF40A', 'RAB11A', 'RAB11FIP3', 'RAB11FIP4', 'RAB35', 'RACGAP1', 'RASA1', 'RHOA', 'RHOB', 'RHOC', 'ROCK1', 'ROCK2', 'ROPN1B', 'RTKN', 'RXFP3', 'SEPTIN1', 'SEPTIN10', 'SEPTIN11', 'SEPTIN12', 'SEPTIN14', 'SEPTIN2', 'SEPTIN3', 'SEPTIN4', 'SEPTIN5', 'SEPTIN6', 'SEPTIN7', 'SEPTIN8', 'SEPTIN9', 'SETD2', 'SH3GLB1', 'SHCBP1L', 'SNX18', 'SNX33', 'SNX9', 'SON', 'SPART', 'SPAST', 'SPIRE1', 'SPIRE2', 'SPTBN1', 'SSTR5', 'STAMBP', 'STMN1', 'SVIL', 'TAS1R2', 'TAS2R13', 'TEX14', 'TRIM36', 'TTC19', 'UNC119', 'USP8', 'UVRAG', 'VPS4A', 'VPS4B', 'WASHC5', 'WNK1', 'ZFYVE19', 'ZFYVE26', 'ZNF365']\n",
      "Filtered expression DataFrame:\n",
      "          1622003800C  1621001800C  1622003500C  1621003700C  1621002900C  \\\n",
      "symbol                                                                     \n",
      "CETN2       2.288476    -0.560410     0.635624     1.430211    -0.408137   \n",
      "SEPTIN6     1.995646     0.661968     0.095885    -0.760930     2.057177   \n",
      "KLHL13     -0.658485    -0.406111    -0.854075    -0.556274    -1.101401   \n",
      "KIF4A       1.008998     0.464712     1.970252     0.773459     0.989901   \n",
      "ATXN10     -0.083875    -0.113049     0.797179    -1.285844    -0.962012   \n",
      "\n",
      "         1621002200C  162200380CP  162100180CP  162200350CP  162100370CP  \\\n",
      "symbol                                                                     \n",
      "CETN2      -1.108593    -0.333385     0.206491    -1.368841     0.115128   \n",
      "SEPTIN6    -0.477888    -0.774774    -0.097936    -0.791695    -0.410205   \n",
      "KLHL13     -0.952501     2.237504     1.482906    -0.269830     0.926422   \n",
      "KIF4A       0.254637    -1.126768    -0.557018    -1.034462    -0.907144   \n",
      "ATXN10     -1.315018    -0.139306     2.057496    -0.789886     1.208532   \n",
      "\n",
      "         162100290CP  162100220CP  \n",
      "symbol                             \n",
      "CETN2      -0.732063    -0.164501  \n",
      "SEPTIN6    -0.797848    -0.699399  \n",
      "KLHL13     -0.141119     0.292964  \n",
      "KIF4A      -1.120402    -0.716166  \n",
      "ATXN10     -0.188902     0.814684   \n",
      "\n"
     ]
    }
   ],
   "source": [
    "# input 2: pathway\n",
    "pathway = pd.read_csv(\"lin/GO_pathways_genes.csv\")\n",
    "\n",
    "poi = \"GOBP_CYTOKINESIS\"\n",
    "genes_in_pathway = pathway.loc[pathway['Pathway'] == poi, 'Gene'].tolist()\n",
    "print(f\"Genes in pathway {poi}: {genes_in_pathway}\")\n",
    "\n",
    "# filter df_final to include only genes in the pathway\n",
    "df_poi = df_final.loc[df_final.index.isin(genes_in_pathway)]\n",
    "print(\"Filtered expression DataFrame:\\n\", df_poi.head(), \"\\n\")\n"
   ]
  },
  {
   "cell_type": "code",
   "execution_count": 8,
   "id": "97618740-01c9-4fcc-acd9-6a2bc96a167f",
   "metadata": {},
   "outputs": [
    {
     "name": "stdout",
     "output_type": "stream",
     "text": [
      "NM subset:\n",
      "          162200380CP  162100180CP  162200350CP  162100370CP  162100290CP  \\\n",
      "symbol                                                                     \n",
      "CETN2      -0.333385     0.206491    -1.368841     0.115128    -0.732063   \n",
      "SEPTIN6    -0.774774    -0.097936    -0.791695    -0.410205    -0.797848   \n",
      "KLHL13      2.237504     1.482906    -0.269830     0.926422    -0.141119   \n",
      "KIF4A      -1.126768    -0.557018    -1.034462    -0.907144    -1.120402   \n",
      "ATXN10     -0.139306     2.057496    -0.789886     1.208532    -0.188902   \n",
      "\n",
      "         162100220CP  \n",
      "symbol                \n",
      "CETN2      -0.164501  \n",
      "SEPTIN6    -0.699399  \n",
      "KLHL13      0.292964  \n",
      "KIF4A      -0.716166  \n",
      "ATXN10      0.814684   \n",
      "\n",
      "DS subset:\n",
      "          1622003800C  1621001800C  1622003500C  1621003700C  1621002900C  \\\n",
      "symbol                                                                     \n",
      "CETN2       2.288476    -0.560410     0.635624     1.430211    -0.408137   \n",
      "SEPTIN6     1.995646     0.661968     0.095885    -0.760930     2.057177   \n",
      "KLHL13     -0.658485    -0.406111    -0.854075    -0.556274    -1.101401   \n",
      "KIF4A       1.008998     0.464712     1.970252     0.773459     0.989901   \n",
      "ATXN10     -0.083875    -0.113049     0.797179    -1.285844    -0.962012   \n",
      "\n",
      "         1621002200C  \n",
      "symbol                \n",
      "CETN2      -1.108593  \n",
      "SEPTIN6    -0.477888  \n",
      "KLHL13     -0.952501  \n",
      "KIF4A       0.254637  \n",
      "ATXN10     -1.315018   \n",
      "\n"
     ]
    }
   ],
   "source": [
    "# Split columns by substring\n",
    "nm_cols = [c for c in df_poi.columns if \"0CP\" in c]\n",
    "ds_cols = [c for c in df_poi.columns if \"P\" not in c]\n",
    "\n",
    "# Create two separate DataFrames\n",
    "df_nm = df_poi[nm_cols]\n",
    "df_ds = df_poi[ds_cols]\n",
    "\n",
    "print(\"NM subset:\\n\", df_nm.head(), \"\\n\")\n",
    "print(\"DS subset:\\n\", df_ds.head(), \"\\n\")"
   ]
  },
  {
   "cell_type": "code",
   "execution_count": 9,
   "id": "423535a2-8c02-4a9d-b9bb-f63d0cd9b155",
   "metadata": {},
   "outputs": [
    {
     "name": "stdout",
     "output_type": "stream",
     "text": [
      "         1622003800C  1621001800C  1622003500C  1621003700C  1621002900C  \\\n",
      "symbol                                                                     \n",
      "CETN2       2.288476    -0.560410     0.635624     1.430211    -0.408137   \n",
      "SEPTIN6     1.995646     0.661968     0.095885    -0.760930     2.057177   \n",
      "KLHL13     -0.658485    -0.406111    -0.854075    -0.556274    -1.101401   \n",
      "KIF4A       1.008998     0.464712     1.970252     0.773459     0.989901   \n",
      "ATXN10     -0.083875    -0.113049     0.797179    -1.285844    -0.962012   \n",
      "...              ...          ...          ...          ...          ...   \n",
      "BECN1      -1.636028    -0.412575    -0.954973     0.545796    -1.831781   \n",
      "ACTR2       1.391849     1.023247     0.203196     1.341849     1.289815   \n",
      "SEPTIN9    -0.642075     0.331555    -0.168986     2.938003    -0.609633   \n",
      "BIRC5       0.338088    -0.099608    -0.058114     0.667364     3.008437   \n",
      "CHMP6      -1.145599     0.499249    -0.182761     0.218422    -1.814236   \n",
      "\n",
      "         1621002200C  \n",
      "symbol                \n",
      "CETN2      -1.108593  \n",
      "SEPTIN6    -0.477888  \n",
      "KLHL13     -0.952501  \n",
      "KIF4A       0.254637  \n",
      "ATXN10     -1.315018  \n",
      "...              ...  \n",
      "BECN1       0.215464  \n",
      "ACTR2       0.091278  \n",
      "SEPTIN9    -0.729421  \n",
      "BIRC5      -0.121025  \n",
      "CHMP6      -0.316488  \n",
      "\n",
      "[182 rows x 6 columns]\n"
     ]
    }
   ],
   "source": [
    "expression_df = df_ds # using only NM samples for correlation\n",
    "name = \"DS\"\n",
    "expression_df = expression_df.loc[expression_df.var(axis=1) > 1e-6] \n",
    "print(expression_df)"
   ]
  },
  {
   "cell_type": "code",
   "execution_count": 10,
   "id": "9160638c-9785-4e8c-974f-5720b5e135d2",
   "metadata": {},
   "outputs": [
    {
     "name": "stdout",
     "output_type": "stream",
     "text": [
      "Pearson Correlation Matrix:\n",
      "symbol      CETN2   SEPTIN6    KLHL13     KIF4A    ATXN10   SEPTIN5     CECR2  \\\n",
      "symbol                                                                          \n",
      "CETN2    1.000000  0.189916  0.356430  0.422064  0.277020  0.500771  0.430316   \n",
      "SEPTIN6  0.189916  1.000000 -0.225565  0.161438  0.241762  0.669487 -0.568893   \n",
      "KLHL13   0.356430 -0.225565  1.000000 -0.226313  0.194034  0.420591  0.428719   \n",
      "KIF4A    0.422064  0.161438 -0.226313  1.000000  0.739218  0.408510 -0.158160   \n",
      "ATXN10   0.277020  0.241762  0.194034  0.739218  1.000000  0.724720 -0.461109   \n",
      "...           ...       ...       ...       ...       ...       ...       ...   \n",
      "BECN1   -0.202966 -0.935441  0.391484 -0.466774 -0.447107 -0.654450  0.654689   \n",
      "ACTR2    0.519959  0.526433  0.353661 -0.138329 -0.210237  0.475127  0.360540   \n",
      "SEPTIN9  0.334631 -0.573671  0.551301 -0.086305 -0.305725 -0.191849  0.948233   \n",
      "BIRC5   -0.096748  0.562024 -0.560315  0.067378 -0.358177 -0.017880 -0.072252   \n",
      "CHMP6   -0.100958 -0.775833  0.720851 -0.190797  0.115701 -0.133999  0.418497   \n",
      "\n",
      "symbol        SON   SEPTIN3     AURKA  ...   POLDIP2      GIT1  RAB11FIP4  \\\n",
      "symbol                                 ...                                  \n",
      "CETN2    0.749880  0.732645  0.457132  ... -0.078536 -0.374467   0.717978   \n",
      "SEPTIN6 -0.343058  0.634790  0.150878  ... -0.102201  0.458542  -0.073749   \n",
      "KLHL13   0.527912  0.129465 -0.312473  ... -0.447258 -0.693738   0.202038   \n",
      "KIF4A    0.481187  0.214640  0.978893  ...  0.789552  0.180122   0.849938   \n",
      "ATXN10   0.286067  0.345230  0.589514  ...  0.376750 -0.197410   0.600152   \n",
      "...           ...       ...       ...  ...       ...       ...        ...   \n",
      "BECN1    0.259405 -0.590442 -0.447560  ... -0.198698 -0.513859  -0.140306   \n",
      "ACTR2    0.273812  0.415344 -0.061311  ... -0.294556  0.177493   0.117963   \n",
      "SEPTIN9  0.752704 -0.330040 -0.005608  ...  0.055017 -0.242357   0.384445   \n",
      "BIRC5   -0.262999 -0.055611  0.201151  ...  0.306138  0.919513  -0.116818   \n",
      "CHMP6    0.417902 -0.444694 -0.280085  ... -0.106641 -0.667923   0.119547   \n",
      "\n",
      "symbol     PIK3R4     MYO19     BECN1     ACTR2   SEPTIN9     BIRC5     CHMP6  \n",
      "symbol                                                                         \n",
      "CETN2    0.382088  0.830783 -0.202966  0.519959  0.334631 -0.096748 -0.100958  \n",
      "SEPTIN6 -0.516563 -0.260337 -0.935441  0.526433 -0.573671  0.562024 -0.775833  \n",
      "KLHL13   0.015124  0.387172  0.391484  0.353661  0.551301 -0.560315  0.720851  \n",
      "KIF4A    0.722304  0.057832 -0.466774 -0.138329 -0.086305  0.067378 -0.190797  \n",
      "ATXN10   0.346014 -0.185670 -0.447107 -0.210237 -0.305725 -0.358177  0.115701  \n",
      "...           ...       ...       ...       ...       ...       ...       ...  \n",
      "BECN1    0.250374  0.310534  1.000000 -0.306692  0.646060 -0.528001  0.796596  \n",
      "ACTR2   -0.260064  0.404963 -0.306692  1.000000  0.362488  0.503164 -0.294507  \n",
      "SEPTIN9  0.492794  0.641318  0.646060  0.362488  1.000000 -0.084975  0.559903  \n",
      "BIRC5   -0.201626 -0.198134 -0.528001  0.503164 -0.084975  1.000000 -0.759420  \n",
      "CHMP6    0.317137  0.147397  0.796596 -0.294507  0.559903 -0.759420  1.000000  \n",
      "\n",
      "[182 rows x 182 columns]\n",
      "Pearson FDR Matrix:\n",
      "symbol          CETN2   SEPTIN6    KLHL13     KIF4A    ATXN10   SEPTIN5  \\\n",
      "symbol                                                                    \n",
      "CETN2    1.416017e-29  0.965626  0.922649  0.900045  0.941935  0.873042   \n",
      "SEPTIN6  9.656259e-01  0.000000  0.954992  0.970738  0.949832  0.798881   \n",
      "KLHL13   9.226491e-01  0.954992  0.000000  0.954645  0.964677  0.900988   \n",
      "KIF4A    9.000454e-01  0.970738  0.954645  0.000000  0.757422  0.906843   \n",
      "ATXN10   9.419349e-01  0.949832  0.964677  0.757422  0.000000  0.766071   \n",
      "...               ...       ...       ...       ...       ...       ...   \n",
      "BECN1    9.619468e-01  0.325769  0.913900  0.883691  0.892696  0.809161   \n",
      "ACTR2    8.635064e-01  0.860636  0.923407  0.976610  0.959331  0.881695   \n",
      "SEPTIN9  9.276791e-01  0.855137  0.856784  0.985801  0.934271  0.965105   \n",
      "BIRC5    9.828313e-01  0.856784  0.856784  0.989474  0.922649  0.997242   \n",
      "CHMP6    9.813887e-01  0.724109  0.766071  0.965413  0.978553  0.976926   \n",
      "\n",
      "symbol      CECR2       SON   SEPTIN3     AURKA  ...   POLDIP2      GIT1  \\\n",
      "symbol                                           ...                       \n",
      "CETN2    0.898729  0.745969  0.762788  0.888050  ...  0.987683  0.918461   \n",
      "SEPTIN6  0.856784  0.925992  0.822212  0.973701  ...  0.981389  0.886762   \n",
      "KLHL13   0.899822  0.860636  0.976988  0.933113  ...  0.892696  0.782173   \n",
      "KIF4A    0.971925  0.880424  0.958896  0.085191  ...  0.705570  0.968213   \n",
      "ATXN10   0.885767  0.940911  0.924991  0.846894  ...  0.917140  0.963628   \n",
      "...           ...       ...       ...       ...  ...       ...       ...   \n",
      "BECN1    0.809096  0.946613  0.845672  0.892591  ...  0.963352  0.866691   \n",
      "ACTR2    0.922649  0.942932  0.904140  0.991542  ...  0.938236  0.968213   \n",
      "SEPTIN9  0.277226  0.745564  0.927679  0.998730  ...  0.992412  0.949578   \n",
      "BIRC5    0.987882  0.945582  0.992412  0.962439  ...  0.934108  0.401590   \n",
      "CHMP6    0.902374  0.902444  0.893856  0.941070  ...  0.980269  0.800960   \n",
      "\n",
      "symbol   RAB11FIP4    PIK3R4     MYO19         BECN1     ACTR2       SEPTIN9  \\\n",
      "symbol                                                                         \n",
      "CETN2     0.766342  0.916244  0.641513  9.619468e-01  0.863506  9.276791e-01   \n",
      "SEPTIN6   0.987869  0.866457  0.946338  3.257686e-01  0.860636  8.551372e-01   \n",
      "KLHL13    0.962159  0.997356  0.914326  9.139003e-01  0.923407  8.567836e-01   \n",
      "KIF4A     0.600540  0.766071  0.991542  8.836909e-01  0.976610  9.858012e-01   \n",
      "ATXN10    0.838812  0.924991  0.965832  8.926959e-01  0.959331  9.342709e-01   \n",
      "...            ...       ...       ...           ...       ...           ...   \n",
      "BECN1     0.976587  0.947986  0.933239  1.416017e-29  0.933811  8.160736e-01   \n",
      "ACTR2     0.978553  0.946420  0.908901  9.338106e-01  0.000000  9.221405e-01   \n",
      "SEPTIN9   0.916244  0.875464  0.818108  8.160736e-01  0.922141  5.383976e-29   \n",
      "BIRC5     0.978553  0.962306  0.963465  8.606359e-01  0.870510  9.861891e-01   \n",
      "CHMP6     0.978553  0.931257  0.974552  6.951255e-01  0.938236  8.567836e-01   \n",
      "\n",
      "symbol      BIRC5     CHMP6  \n",
      "symbol                       \n",
      "CETN2    0.982831  0.981389  \n",
      "SEPTIN6  0.856784  0.724109  \n",
      "KLHL13   0.856784  0.766071  \n",
      "KIF4A    0.989474  0.965413  \n",
      "ATXN10   0.922649  0.978553  \n",
      "...           ...       ...  \n",
      "BECN1    0.860636  0.695126  \n",
      "ACTR2    0.870510  0.938236  \n",
      "SEPTIN9  0.986189  0.856784  \n",
      "BIRC5    0.000000  0.742928  \n",
      "CHMP6    0.742928  0.000000  \n",
      "\n",
      "[182 rows x 182 columns]\n",
      "Spearman Correlation Matrix:\n",
      "symbol      CETN2   SEPTIN6    KLHL13     KIF4A    ATXN10   SEPTIN5     CECR2  \\\n",
      "symbol                                                                          \n",
      "CETN2    1.000000  0.085714  0.257143  0.714286  0.485714  0.485714  0.428571   \n",
      "SEPTIN6  0.085714  1.000000 -0.314286  0.371429  0.428571  0.600000 -0.600000   \n",
      "KLHL13   0.257143 -0.314286  1.000000 -0.142857  0.200000  0.428571  0.542857   \n",
      "KIF4A    0.714286  0.371429 -0.142857  1.000000  0.828571  0.542857 -0.257143   \n",
      "ATXN10   0.485714  0.428571  0.200000  0.828571  1.000000  0.828571 -0.314286   \n",
      "...           ...       ...       ...       ...       ...       ...       ...   \n",
      "BECN1   -0.200000 -0.942857  0.485714 -0.600000 -0.542857 -0.542857  0.657143   \n",
      "ACTR2    0.828571  0.314286  0.314286  0.371429  0.200000  0.485714  0.428571   \n",
      "SEPTIN9  0.257143 -0.314286  0.657143  0.085714  0.142857  0.085714  0.142857   \n",
      "BIRC5    0.600000  0.371429 -0.200000  0.485714  0.085714  0.085714 -0.085714   \n",
      "CHMP6   -0.142857 -0.600000  0.828571 -0.314286  0.028571  0.028571  0.314286   \n",
      "\n",
      "symbol        SON   SEPTIN3     AURKA  ...   POLDIP2      GIT1  RAB11FIP4  \\\n",
      "symbol                                 ...                                  \n",
      "CETN2    0.771429  0.657143  0.542857  ... -0.028571 -0.142857   0.771429   \n",
      "SEPTIN6 -0.371429  0.657143  0.428571  ... -0.028571  0.028571  -0.142857   \n",
      "KLHL13   0.542857 -0.028571 -0.314286  ... -0.257143 -0.600000   0.142857   \n",
      "KIF4A    0.542857  0.885714  0.942857  ...  0.428571  0.257143   0.828571   \n",
      "ATXN10   0.428571  0.885714  0.714286  ...  0.257143 -0.085714   0.600000   \n",
      "...           ...       ...       ...  ...       ...       ...        ...   \n",
      "BECN1    0.257143 -0.771429 -0.657143  ... -0.142857 -0.200000  -0.085714   \n",
      "ACTR2    0.485714  0.485714  0.257143  ... -0.257143 -0.257143   0.371429   \n",
      "SEPTIN9  0.714286 -0.085714  0.142857  ...  0.485714  0.200000   0.485714   \n",
      "BIRC5    0.371429  0.371429  0.600000  ...  0.371429  0.485714   0.485714   \n",
      "CHMP6    0.428571 -0.371429 -0.371429  ...  0.085714 -0.257143   0.085714   \n",
      "\n",
      "symbol     PIK3R4     MYO19     BECN1     ACTR2   SEPTIN9     BIRC5     CHMP6  \n",
      "symbol                                                                         \n",
      "CETN2    0.714286  0.714286 -0.200000  0.828571  0.257143  0.600000 -0.142857  \n",
      "SEPTIN6 -0.257143 -0.600000 -0.942857  0.314286 -0.314286  0.371429 -0.600000  \n",
      "KLHL13  -0.085714  0.428571  0.485714  0.314286  0.657143 -0.200000  0.828571  \n",
      "KIF4A    0.771429  0.257143 -0.600000  0.371429  0.085714  0.485714 -0.314286  \n",
      "ATXN10   0.428571  0.085714 -0.542857  0.200000  0.142857  0.085714  0.028571  \n",
      "...           ...       ...       ...       ...       ...       ...       ...  \n",
      "BECN1   -0.028571  0.485714  1.000000 -0.257143  0.371429 -0.428571  0.714286  \n",
      "ACTR2    0.257143  0.428571 -0.257143  1.000000  0.257143  0.714286 -0.200000  \n",
      "SEPTIN9  0.257143  0.257143  0.371429  0.257143  1.000000  0.314286  0.714286  \n",
      "BIRC5    0.428571  0.085714 -0.428571  0.714286  0.314286  1.000000 -0.428571  \n",
      "CHMP6   -0.085714  0.257143  0.714286 -0.200000  0.714286 -0.428571  1.000000  \n",
      "\n",
      "[182 rows x 182 columns]\n",
      "Spearman FDR Matrix:\n",
      "symbol      CETN2   SEPTIN6    KLHL13     KIF4A    ATXN10   SEPTIN5     CECR2  \\\n",
      "symbol                                                                          \n",
      "CETN2    0.000000  0.944451  0.903126  0.651814  0.810045  0.810045  0.847665   \n",
      "SEPTIN6  0.944451  0.000000  0.901939  0.866339  0.847665  0.730625  0.730625   \n",
      "KLHL13   0.903126  0.901939  0.000000  0.944451  0.944451  0.847665  0.779413   \n",
      "KIF4A    0.651814  0.866339  0.944451  0.000000  0.513702  0.779413  0.903126   \n",
      "ATXN10   0.810045  0.847665  0.944451  0.513702  0.000000  0.513702  0.901939   \n",
      "...           ...       ...       ...       ...       ...       ...       ...   \n",
      "BECN1    0.944451  0.184201  0.810045  0.730625  0.779413  0.779413  0.725545   \n",
      "ACTR2    0.513702  0.901939  0.901939  0.866339  0.944451  0.810045  0.847665   \n",
      "SEPTIN9  0.903126  0.901939  0.725545  0.944451  0.944451  0.944451  0.944451   \n",
      "BIRC5    0.730625  0.866339  0.944451  0.810045  0.944451  0.944451  0.944451   \n",
      "CHMP6    0.944451  0.730625  0.513702  0.901939  0.959065  0.959065  0.901939   \n",
      "\n",
      "symbol        SON   SEPTIN3     AURKA  ...   POLDIP2      GIT1  RAB11FIP4  \\\n",
      "symbol                                 ...                                  \n",
      "CETN2    0.553569  0.725545  0.779413  ...  0.959065  0.944451   0.553569   \n",
      "SEPTIN6  0.866339  0.725545  0.847665  ...  0.959065  0.959065   0.944451   \n",
      "KLHL13   0.779413  0.959065  0.901939  ...  0.903126  0.730625   0.944451   \n",
      "KIF4A    0.779413  0.384383  0.184201  ...  0.847665  0.903126   0.513702   \n",
      "ATXN10   0.847665  0.384383  0.651814  ...  0.903126  0.944451   0.730625   \n",
      "...           ...       ...       ...  ...       ...       ...        ...   \n",
      "BECN1    0.903126  0.553569  0.725545  ...  0.944451  0.944451   0.944451   \n",
      "ACTR2    0.810045  0.810045  0.903126  ...  0.903126  0.903126   0.866339   \n",
      "SEPTIN9  0.651814  0.944451  0.944451  ...  0.810045  0.944451   0.810045   \n",
      "BIRC5    0.866339  0.866339  0.730625  ...  0.866339  0.810045   0.810045   \n",
      "CHMP6    0.847665  0.866339  0.866339  ...  0.944451  0.903126   0.944451   \n",
      "\n",
      "symbol     PIK3R4     MYO19     BECN1     ACTR2   SEPTIN9     BIRC5     CHMP6  \n",
      "symbol                                                                         \n",
      "CETN2    0.651814  0.651814  0.944451  0.513702  0.903126  0.730625  0.944451  \n",
      "SEPTIN6  0.903126  0.730625  0.184201  0.901939  0.901939  0.866339  0.730625  \n",
      "KLHL13   0.944451  0.847665  0.810045  0.901939  0.725545  0.944451  0.513702  \n",
      "KIF4A    0.553569  0.903126  0.730625  0.866339  0.944451  0.810045  0.901939  \n",
      "ATXN10   0.847665  0.944451  0.779413  0.944451  0.944451  0.944451  0.959065  \n",
      "...           ...       ...       ...       ...       ...       ...       ...  \n",
      "BECN1    0.959065  0.810045  0.000000  0.903126  0.866339  0.847665  0.651814  \n",
      "ACTR2    0.903126  0.847665  0.903126  0.000000  0.903126  0.651814  0.944451  \n",
      "SEPTIN9  0.903126  0.903126  0.866339  0.903126  0.000000  0.901939  0.651814  \n",
      "BIRC5    0.847665  0.944451  0.847665  0.651814  0.901939  0.000000  0.847665  \n",
      "CHMP6    0.944451  0.903126  0.651814  0.944451  0.651814  0.847665  0.000000  \n",
      "\n",
      "[182 rows x 182 columns]\n"
     ]
    }
   ],
   "source": [
    "# gene-gene correlation matrix\n",
    "genes = expression_df.index\n",
    "#print(genes)\n",
    "n_genes = len(genes)\n",
    "\n",
    "pearson_corr = pd.DataFrame(np.zeros((n_genes, n_genes)), index=genes, columns=genes)\n",
    "pearson_pval = pd.DataFrame(np.zeros((n_genes, n_genes)), index=genes, columns=genes)\n",
    "\n",
    "spearman_corr = pd.DataFrame(np.zeros((n_genes, n_genes)), index=genes, columns=genes)\n",
    "spearman_pval = pd.DataFrame(np.zeros((n_genes, n_genes)), index=genes, columns=genes)\n",
    "\n",
    "# pairwise correlations and p-values\n",
    "for i, g1 in enumerate(genes):\n",
    "    for j, g2 in enumerate(genes):\n",
    "        if j >= i:\n",
    "            r, p = pearsonr(expression_df.loc[g1], expression_df.loc[g2])\n",
    "            pearson_corr.loc[g1, g2] = pearson_corr.loc[g2, g1] = r\n",
    "            pearson_pval.loc[g1, g2] = pearson_pval.loc[g2, g1] = p\n",
    "\n",
    "            r_s, p_s = spearmanr(expression_df.loc[g1], expression_df.loc[g2])\n",
    "            spearman_corr.loc[g1, g2] = spearman_corr.loc[g2, g1] = r_s\n",
    "            spearman_pval.loc[g1, g2] = spearman_pval.loc[g2, g1] = p_s\n",
    "\n",
    "\n",
    "# FDR (Benjamini-Hochberg) \n",
    "# explain why FDR correction is needed\n",
    "pearson_fdr = pd.DataFrame(\n",
    "    false_discovery_control(pearson_pval.values.flatten(), method='bh').reshape(n_genes, n_genes),\n",
    "    index=genes, columns=genes\n",
    ")\n",
    "\n",
    "spearman_fdr = pd.DataFrame(\n",
    "    false_discovery_control(spearman_pval.values.flatten(), method='bh').reshape(n_genes, n_genes),\n",
    "    index=genes, columns=genes\n",
    ")\n",
    "\n",
    "print(\"Pearson Correlation Matrix:\")\n",
    "print(pearson_corr)\n",
    "print(\"Pearson FDR Matrix:\")\n",
    "print(pearson_fdr)\n",
    "print(\"Spearman Correlation Matrix:\")\n",
    "print(spearman_corr)\n",
    "print(\"Spearman FDR Matrix:\")\n",
    "print(spearman_fdr) \n"
   ]
  },
  {
   "cell_type": "code",
   "execution_count": 11,
   "id": "e3217a3f-6709-4de8-a1ae-b50438c62b32",
   "metadata": {},
   "outputs": [
    {
     "name": "stdout",
     "output_type": "stream",
     "text": [
      "Significant Pearson pairs (FDR<0.05): 46\n",
      "Significant Spearman pairs (FDR<0.05): 144\n",
      "Chosen method: SPEARMAN\n"
     ]
    }
   ],
   "source": [
    "# Define FDR significance threshold\n",
    "fdr_threshold = 0.05\n",
    "\n",
    "# Count significant gene–gene pairs (excluding self-pairs)\n",
    "pearson_sig = np.sum((pearson_fdr < fdr_threshold).values) - len(genes)\n",
    "spearman_sig = np.sum((spearman_fdr < fdr_threshold).values) - len(genes)\n",
    "\n",
    "print(f\"Significant Pearson pairs (FDR<{fdr_threshold}): {pearson_sig}\")\n",
    "print(f\"Significant Spearman pairs (FDR<{fdr_threshold}): {spearman_sig}\")\n",
    "\n",
    "# Compare counts\n",
    "# highlight pearson vs spearman choosen method\n",
    "if pearson_sig > spearman_sig:\n",
    "    chosen_method = \"pearson\"\n",
    "elif spearman_sig > pearson_sig:\n",
    "    chosen_method = \"spearman\"\n",
    "else:\n",
    "    # Tie → compare average |r²|\n",
    "    pearson_r2 = np.nanmean(np.square(pearson_corr.values))\n",
    "    spearman_r2 = np.nanmean(np.square(spearman_corr.values))\n",
    "    chosen_method = \"pearson\" if pearson_r2 > spearman_r2 else \"spearman\"\n",
    "\n",
    "print(f\"Chosen method: {chosen_method.upper()}\")\n",
    "\n",
    "if chosen_method == \"pearson\":\n",
    "    pearson_corr.to_csv(f\"pearson_gene_correlation_r2_{name}.csv\")\n",
    "    pearson_fdr.to_csv(f\"pearson_gene_correlation_fdr_{name}.csv\")\n",
    "else:\n",
    "    spearman_corr.to_csv(f\"spearman_gene_correlation_r2_{name}.csv\")\n",
    "    spearman_fdr.to_csv(f\"spearman_gene_correlation_fdr_{name}.csv\")\n"
   ]
  },
  {
   "cell_type": "markdown",
   "id": "7174dc90-f456-4a4f-8d73-b98169a13060",
   "metadata": {},
   "source": [
    "## **Output and Visualization**"
   ]
  },
  {
   "cell_type": "markdown",
   "id": "6413d965-7f80-4f38-bd78-cff34112e084",
   "metadata": {},
   "source": [
    "### Part 1: Net graph"
   ]
  },
  {
   "cell_type": "code",
   "execution_count": 12,
   "id": "0099c263-cc8f-4b74-b0b4-4a5bff2dde46",
   "metadata": {},
   "outputs": [],
   "source": [
    "import numpy as np\n",
    "import pandas as pd\n",
    "import matplotlib.pyplot as plt\n",
    "import networkx as nx\n",
    "\n",
    "# Example transition matrix\n",
    "data = {\n",
    "    \"GeneA\": [0.0, 0.5, 0.2, 0.1, 0.05, 0.0, 0.0],\n",
    "    \"GeneB\": [0.5, 0.0, 0.5, 0.2, 0.1, 0.1, -0.3],\n",
    "    \"GeneC\": [0.2, 0.5, 0.0, 0.4, -0.2, -0.1, 0.3],\n",
    "    \"GeneD\": [0.1, 0.2, 0.4, 0.0, 0.2, 0.2, 0.0],\n",
    "    \"GeneE\": [0.05, 0.1, -0.2, 0.2, 0.0, 0.3, 0.25],\n",
    "    \"GeneF\": [0.0, 0.1, -0.1, 0.2, 0.3, 0.0, 0.0],\n",
    "    \"GeneG\": [0.0, -0.3, 0.3, 0.0, 0.25, 0.0, 0.0]\n",
    "}\n",
    "\n",
    "transition_df = pd.DataFrame(data, index=[\"GeneA\", \"GeneB\", \"GeneC\", \"GeneD\",\"GeneE\",\"GeneF\",\"GeneG\"])\n"
   ]
  },
  {
   "cell_type": "code",
   "execution_count": 13,
   "id": "e2aadc27-328c-4fdb-a3c4-cfe1f60ee5f9",
   "metadata": {},
   "outputs": [
    {
     "data": {
      "image/png": "[encoded data removed]",
      "text/plain": [
       "<Figure size 1200x1000 with 2 Axes>"
      ]
     },
     "metadata": {},
     "output_type": "display_data"
    }
   ],
   "source": [
    "G = nx.DiGraph()\n",
    "\n",
    "# Add edges with weights (probabilities)\n",
    "for from_gene in transition_df.index:\n",
    "    for to_gene in transition_df.columns:\n",
    "        weight = transition_df.loc[from_gene, to_gene]\n",
    "        if abs(weight) > 0:\n",
    "            G.add_edge(from_gene, to_gene, weight=weight)\n",
    "\n",
    "# Define layout (spring_layout or circular_layout)\n",
    "pos = nx.spring_layout(G, seed=42)\n",
    "\n",
    "# Get edge weights\n",
    "weights = [G[u][v]['weight'] * 5 for u, v in G.edges()]  # scale up for visibility\n",
    "\n",
    "cmap = plt.cm.coolwarm\n",
    "\n",
    "# Normalize weights between 0 and 1 for colormap scaling\n",
    "norm = plt.Normalize(vmin=min(weights), vmax=max(weights))\n",
    "edge_colors = [cmap(norm(w)) for w in weights]\n",
    "\n",
    "fig, ax = plt.subplots(figsize=(12, 10), constrained_layout=True)\n",
    "\n",
    "nx.draw(\n",
    "    G,\n",
    "    pos,\n",
    "    with_labels=True,\n",
    "    node_size=2000,\n",
    "    node_color=\"lightgrey\",\n",
    "    edge_color=edge_colors,\n",
    "    width=2,\n",
    "    font_size=12,\n",
    "    arrows=True,\n",
    "    ax=ax\n",
    ")\n",
    "\n",
    "# Colorbar\n",
    "sm = plt.cm.ScalarMappable(cmap=cmap, norm=norm)\n",
    "sm.set_array([])\n",
    "cbar = fig.colorbar(sm, ax=ax, fraction=0.03, pad=0.04)\n",
    "cbar.set_label(\"Transition Probability / Correlation Strength\")\n",
    "\n",
    "edge_labels = {(u, v): f\"{G[u][v]['weight']:.2f}\" for u, v in G.edges()}\n",
    "nx.draw_networkx_edge_labels(G, pos, edge_labels=edge_labels, font_color=\"black\", font_size=10, ax=ax)\n",
    "\n",
    "plt.title(\"Gene Interaction Network (Edge Color = Transition Strength)\")\n",
    "plt.show()"
   ]
  },
  {
   "cell_type": "code",
   "execution_count": null,
   "id": "a5ad313f-fdd0-442f-ae8a-aeae5292e161",
   "metadata": {},
   "outputs": [],
   "source": []
  },
  {
   "cell_type": "code",
   "execution_count": null,
   "id": "94572490-51b1-45e0-a3ad-b4011b31d450",
   "metadata": {},
   "outputs": [],
   "source": []
  },
  {
   "cell_type": "code",
   "execution_count": null,
   "id": "f329e74e-dd76-45bb-a5d8-9b0d73b64d51",
   "metadata": {},
   "outputs": [],
   "source": []
  },
  {
   "cell_type": "code",
   "execution_count": null,
   "id": "b51d8ca7-6cd9-493f-ab10-bfbdff3e71ff",
   "metadata": {},
   "outputs": [],
   "source": []
  }
 ],
 "metadata": {
  "kernelspec": {
   "display_name": "Python 3 (ipykernel)",
   "language": "python",
   "name": "python3"
  },
  "language_info": {
   "codemirror_mode": {
    "name": "ipython",
    "version": 3
   },
   "file_extension": ".py",
   "mimetype": "text/x-python",
   "name": "python",
   "nbconvert_exporter": "python",
   "pygments_lexer": "ipython3",
   "version": "3.13.5"
  }
 },
 "nbformat": 4,
 "nbformat_minor": 5
}
